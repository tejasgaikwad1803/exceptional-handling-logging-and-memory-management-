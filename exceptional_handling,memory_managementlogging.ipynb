{
  "nbformat": 4,
  "nbformat_minor": 0,
  "metadata": {
    "colab": {
      "provenance": []
    },
    "kernelspec": {
      "name": "python3",
      "display_name": "Python 3"
    },
    "language_info": {
      "name": "python"
    }
  },
  "cells": [
    {
      "cell_type": "markdown",
      "source": [
        "1.What is the difference between interpreted and compiled languages?\n",
        "\n",
        "  -> compiled languages : source code is converted into byecode bytecode is also called machine code that can understand by CPU\n",
        "\n",
        "  Example: C, C++\n",
        "\n",
        "  interpreted language : Code is executed line-by-line by an interpreter.\n",
        "  his means code is executed directly without a seperate compilation step to convert into machine code\n",
        "\n",
        "  Ex.Python\n",
        "\n",
        " 2.What is exception handling in Python?\n",
        "\n",
        "  ->\n",
        "Exception handling in Python is used to manage errors during program execution. Instead of crashing, we use try and except blocks to catch errors like ZeroDivisionError and keep the program running smoothly.\n",
        "\n",
        "3.What is the purpose of the finally block in exception handling?\n",
        "\n",
        "  -> The finally block runs no matter what — whether there is an error or not.\n",
        "It is used to clean up things like closing files or releasing resources\n",
        "\n",
        "4.What is logging in Python?\n",
        "\n",
        "  -> Logging in Python means writing messages about what the program is doing. It helps you find and fix errors by showing useful info, like when something went wrong or what step the program is on. It’s better than using print() for big programs.\n",
        "\n",
        "5.What is the significance of the __del__ method in Python?\n",
        "\n",
        "  -> The __del__ method is called when an object is deleted. It is used to clean up resources like closing files or connections before the object is removed from memory.\n",
        "\n",
        "6.What is the difference between import and from ... import in Python?\n",
        "\n",
        "  -> import brings in the whole module, so you use module.function().\n",
        "\n",
        "from ... import lets you bring specific parts, so you can use function() directly without the module name.\n",
        "\n",
        "7.How can you handle multiple exceptions in Python?\n",
        "\n",
        "  -> You can handle multiple exceptions by using multiple except blocks for different errors.\n",
        "Or, you can catch multiple exceptions in one line using a tuple like: except (TypeError, ValueError):.\n",
        "\n",
        "8.What is the purpose of the with statement when handling files in Python?\n",
        "\n",
        "  -> The with statement is used to open files safely. It automatically closes the file after the work is done, even if an error happens, so you don’t need to call file.close().\n",
        "\n",
        "9.What is the difference between multithreading and multiprocessing?\n",
        "\n",
        "  -> Multithreading :\n",
        "\n",
        "Runs multiple threads in the same process.\n",
        "\n",
        "Threads share memory and resources.\n",
        "\n",
        "Good for I/O-bound tasks (like file reading, network requests).\n",
        "\n",
        "Faster to start, but can be limited by Python's GIL (Global Interpreter Lock).\n",
        "\n",
        "Less memory usage than multiprocessing.\n",
        "\n",
        "Multiprocessing :\n",
        "\n",
        "Runs in separate processes.\n",
        "\n",
        "Each process has its own memory.\n",
        "\n",
        "Best for CPU-bound tasks (like data processing, calculations).\n",
        "\n",
        "Slower to start but can use multiple CPU cores.\n",
        "\n",
        "Uses more memory but avoids GIL issues.\n",
        "\n",
        "10.What are the advantages of using logging in a program?\n",
        "\n",
        "  -> Logging helps track the flow of a program and find bugs easily. It records useful messages, errors, or warnings without stopping the program, and is better than using print() for real projects.\n",
        "\n",
        "11.What is memory management in Python?\n",
        "\n",
        "  -> Memory management in Python means handling memory automatically so programs run smoothly. Python uses a garbage collector to free up unused memory and stores data using private heaps.\n",
        "\n",
        "12.What are the basic steps involved in exception handling in Python?\n",
        "\n",
        "  -> First, write code inside a try block where an error might happen. Then use except to catch and handle the error. Optionally, use else to run code if there’s no error, and finally to run cleanup code every time.\n",
        "\n",
        "13.Why is memory management important in Python?\n",
        "\n",
        "  -> Memory management is important to keep programs fast and efficient. It helps avoid memory leaks by automatically removing unused data, so the system doesn’t slow down or crash.\n",
        "\n",
        "14.What is the role of try and except in exception handling?\n",
        "\n",
        "  -> The try block contains code that might cause an error. If an error happens, the except block catches it and runs alternate code, so the program doesn’t crash\n",
        "\n",
        "15.How does Python's garbage collection system work?\n",
        "\n",
        "  -> Python’s garbage collector automatically removes objects that are no longer used to free up memory. It mainly uses reference counting and also checks for unused objects in cycles using a built-in module called gc.\n",
        "\n",
        "16.What is the purpose of the else block in exception handling?\n",
        "\n",
        "  -> The else block runs only if no error happens in the try block. It’s used to write code that should run when everything goes fine, without any exceptions.\n",
        "\n",
        "17.What are the common logging levels in Python?\n",
        "\n",
        "  -> Python has five main logging levels:\n",
        "\n",
        "DEBUG – for detailed info (used for debugging)\n",
        "\n",
        "INFO – for general messages\n",
        "\n",
        "WARNING – for something that might cause a problem\n",
        "\n",
        "ERROR – for serious problems\n",
        "\n",
        "CRITICAL – for very serious errors\n",
        "\n",
        "18.What is the difference between os.fork() and multiprocessing in Python?\n",
        "\n",
        "  -> os.fork() directly creates a child process (Unix/Linux only) and is low-level.\n",
        "\n",
        "multiprocessing is a higher-level module that works on all platforms and makes it easier to create and manage multiple processes.\n",
        "\n",
        "\n",
        "19.What is the importance of closing a file in Python?\n",
        "\n",
        "  -> Closing a file frees up system resources and saves any changes made to the file. If you don’t close it, data might not be written properly or the file could get corrupted.\n",
        "\n",
        "20.What is the difference between file.read() and file.readline() in Python?\n",
        "\n",
        "  ->  file.read() :\n",
        "\n",
        "Reads entire file content at once.\n",
        "\n",
        "Returns a single string with all the text.\n",
        "\n",
        "Can use a number as an argument to limit characters (e.g., file.read(10)).\n",
        "\n",
        "Uses more memory if the file is large.\n",
        "\n",
        "Good for small files you want to read fully.\n",
        "\n",
        "file.readline() :\n",
        "\n",
        "Reads one line at a time from the file.\n",
        "\n",
        "Returns a string of just that line, including the newline \\n.\n",
        "\n",
        "Useful in loops to read line-by-line.\n",
        "\n",
        "More memory-efficient for large files.\n",
        "\n",
        "Good when you only need one line or want to process lines one by one.\n",
        "\n",
        "\n",
        "21.What is the logging module in Python used for?\n",
        "\n",
        "  -> The logging module is used to record messages about what a program is doing. It helps track errors, warnings, or other events, and is better than using print() for debugging or saving logs.\n",
        "\n",
        "22.What is the os module in Python used for in file handling?\n",
        "\n",
        "  -> The os module helps interact with the operating system. It’s used for file handling tasks like creating, deleting, renaming files or folders, and checking file paths.\n",
        "\n",
        "23.What are the challenges associated with memory management in Python?\n",
        "\n",
        "  -> Python’s memory management is automatic, but challenges include memory leaks from unused references, slow cleanup of circular references, and high memory use in large programs. Developers must still write efficient code to avoid these issues\n",
        "\n",
        "24.How do you raise an exception manually in Python?\n",
        "\n",
        "  -> You can raise an exception using the raise keyword.\n",
        "For example: raise ValueError(\"Invalid input\") will stop the program and show the error message.\n",
        "\n",
        "25.Why is it important to use multithreading in certain applications?\n",
        "\n",
        "  -> Multithreading helps run multiple tasks at the same time in a single program. It’s useful for applications like downloading files, handling user input, or running background tasks without slowing down the main program\n",
        "\n"
      ],
      "metadata": {
        "id": "vCglto7SeCuz"
      }
    },
    {
      "cell_type": "code",
      "source": [
        "#1.How can you open a file for writing in Python and write a string to it\n",
        "with open(\"example.txt\", \"w\") as file:\n",
        "    file.write(\"Hello, world!\")"
      ],
      "metadata": {
        "id": "f00eRIZgosuw"
      },
      "execution_count": 1,
      "outputs": []
    },
    {
      "cell_type": "code",
      "source": [
        "#2.Write a Python program to read the contents of a file and print each line\n",
        "with open(\"example.txt\", \"r\") as file:\n",
        "    for line in file:\n",
        "        print(line)\n"
      ],
      "metadata": {
        "colab": {
          "base_uri": "https://localhost:8080/"
        },
        "id": "reIOcnuOqYy6",
        "outputId": "ddfb4612-556b-430e-c1c6-e9f0d6075a29"
      },
      "execution_count": 2,
      "outputs": [
        {
          "output_type": "stream",
          "name": "stdout",
          "text": [
            "Hello, world!\n"
          ]
        }
      ]
    },
    {
      "cell_type": "code",
      "source": [
        "#3.How would you handle a case where the file doesn't exist while trying to open it for reading?\n",
        "try:\n",
        "    with open(\"example.txt\", \"r\") as file:\n",
        "        print(file.read())\n",
        "except FileNotFoundError:\n",
        "    print(\"File not found\")\n"
      ],
      "metadata": {
        "colab": {
          "base_uri": "https://localhost:8080/"
        },
        "id": "jnuEi9o_q6Aw",
        "outputId": "3ae09c57-466a-4347-a383-920d023b9668"
      },
      "execution_count": 3,
      "outputs": [
        {
          "output_type": "stream",
          "name": "stdout",
          "text": [
            "Hello, world!\n"
          ]
        }
      ]
    },
    {
      "cell_type": "code",
      "source": [
        "#4.Write a Python script that reads from one file and writes its content to another file\n",
        "with open(\"example.txt\", \"r\") as source:\n",
        "    content = source.read()\n",
        "\n",
        "with open(\"destination.txt\", \"w\") as destination:\n",
        "    destination.write(content)\n"
      ],
      "metadata": {
        "id": "knjbMMXFuCRc"
      },
      "execution_count": 9,
      "outputs": []
    },
    {
      "cell_type": "code",
      "source": [
        "#5.How would you catch and handle division by zero error in Python\n",
        "try:\n",
        "    x = 10 / 0\n",
        "except ZeroDivisionError:\n",
        "    print(\"Cannot divide by zero\")\n"
      ],
      "metadata": {
        "colab": {
          "base_uri": "https://localhost:8080/"
        },
        "id": "KIMYBlrouSGO",
        "outputId": "37afa413-6da1-459f-b8a3-4192e5d7ecc6"
      },
      "execution_count": 10,
      "outputs": [
        {
          "output_type": "stream",
          "name": "stdout",
          "text": [
            "Cannot divide by zero\n"
          ]
        }
      ]
    },
    {
      "cell_type": "code",
      "source": [
        "#6.Write a Python program that logs an error message to a log file when a division by zero exception occurs\n",
        "import logging\n",
        "\n",
        "logging.basicConfig(filename=\"error.log\", level=logging.ERROR)\n",
        "\n",
        "try:\n",
        "    x = 10 / 0\n",
        "except ZeroDivisionError:\n",
        "    logging.error(\"Division by zero error occurred\")\n"
      ],
      "metadata": {
        "colab": {
          "base_uri": "https://localhost:8080/"
        },
        "id": "0OOwMvTxwKzu",
        "outputId": "ad4b99f4-67ac-4fb2-94ce-d285346b82e0"
      },
      "execution_count": 11,
      "outputs": [
        {
          "output_type": "stream",
          "name": "stderr",
          "text": [
            "ERROR:root:Division by zero error occurred\n"
          ]
        }
      ]
    },
    {
      "cell_type": "code",
      "source": [
        "#7.How do you log information at different levels (INFO, ERROR, WARNING) in Python using the logging module\n",
        "import logging\n",
        "\n",
        "logging.basicConfig(level=logging.DEBUG)\n",
        "\n",
        "logging.info(\"This is an info message\")\n",
        "logging.warning(\"This is a warning message\")\n",
        "logging.error(\"This is an error message\")\n"
      ],
      "metadata": {
        "colab": {
          "base_uri": "https://localhost:8080/"
        },
        "id": "Ua3LbtVvwK2w",
        "outputId": "7f365d27-8a15-4206-ac08-659e8169b4f4"
      },
      "execution_count": 12,
      "outputs": [
        {
          "output_type": "stream",
          "name": "stderr",
          "text": [
            "WARNING:root:This is a warning message\n",
            "ERROR:root:This is an error message\n"
          ]
        }
      ]
    },
    {
      "cell_type": "code",
      "source": [
        "#8.Write a program to handle a file opening error using exception handling\n",
        "try:\n",
        "    with open(\"data.txt\", \"r\") as file:\n",
        "        print(file.read())\n",
        "except FileNotFoundError:\n",
        "    print(\"File could not be opened\")\n"
      ],
      "metadata": {
        "colab": {
          "base_uri": "https://localhost:8080/"
        },
        "id": "Ayf9i_gRwK53",
        "outputId": "e9f46bdd-2a51-4813-9b8c-430d485fb583"
      },
      "execution_count": 13,
      "outputs": [
        {
          "output_type": "stream",
          "name": "stdout",
          "text": [
            "File could not be opened\n"
          ]
        }
      ]
    },
    {
      "cell_type": "code",
      "source": [
        "#9.How can you read a file line by line and store its content in a list in Python\n",
        "with open(\"example.txt\", \"r\") as file:\n",
        "    lines = file.readlines()\n",
        "\n"
      ],
      "metadata": {
        "id": "T_iPJ5D_wK8f"
      },
      "execution_count": 15,
      "outputs": []
    },
    {
      "cell_type": "code",
      "source": [
        "#10. How can you append data to an existing file in Python\n",
        "with open(\"data.txt\", \"a\") as file:\n",
        "    file.write(\"New line of text\\n\")\n"
      ],
      "metadata": {
        "id": "zafXMsPQwK_f"
      },
      "execution_count": 16,
      "outputs": []
    },
    {
      "cell_type": "code",
      "source": [
        "#11.Write a Python program that uses a try-except block to handle an error when attempting to access a\n",
        "# dictionary key that doesn't exist\n",
        "data = {\"name\": \"Alice\"}\n",
        "\n",
        "try:\n",
        "    print(data[\"age\"])\n",
        "except KeyError:\n",
        "    print(\"Key not found\")\n"
      ],
      "metadata": {
        "colab": {
          "base_uri": "https://localhost:8080/"
        },
        "id": "iIQiEKuqwLCT",
        "outputId": "03187b25-d540-4407-bfbf-037c5bfefc23"
      },
      "execution_count": 17,
      "outputs": [
        {
          "output_type": "stream",
          "name": "stdout",
          "text": [
            "Key not found\n"
          ]
        }
      ]
    },
    {
      "cell_type": "code",
      "source": [
        "#12.Write a program that demonstrates using multiple except blocks to handle different types of exceptions\n",
        "try:\n",
        "    x = int(\"abc\")\n",
        "    y = 10 / 0\n",
        "except ValueError:\n",
        "    print(\"Invalid value\")\n",
        "except ZeroDivisionError:\n",
        "    print(\"Cannot divide by zero\")\n"
      ],
      "metadata": {
        "colab": {
          "base_uri": "https://localhost:8080/"
        },
        "id": "gfDndZfxwLFC",
        "outputId": "9d89f3bf-7284-46a0-ec81-c62414e79b5c"
      },
      "execution_count": 18,
      "outputs": [
        {
          "output_type": "stream",
          "name": "stdout",
          "text": [
            "Invalid value\n"
          ]
        }
      ]
    },
    {
      "cell_type": "code",
      "source": [
        "#13.How would you check if a file exists before attempting to read it in Python\n",
        "import os\n",
        "\n",
        "if os.path.exists(\"data.txt\"):\n",
        "    with open(\"data.txt\", \"r\") as file:\n",
        "        print(file.read())\n",
        "else:\n",
        "    print(\"File does not exist\")\n"
      ],
      "metadata": {
        "colab": {
          "base_uri": "https://localhost:8080/"
        },
        "id": "VBtP0JLIwLH6",
        "outputId": "9a43bca7-2131-4c8e-a34b-95b9cfa068bc"
      },
      "execution_count": 19,
      "outputs": [
        {
          "output_type": "stream",
          "name": "stdout",
          "text": [
            "New line of text\n",
            "\n"
          ]
        }
      ]
    },
    {
      "cell_type": "code",
      "source": [
        "#14.Write a program that uses the logging module to log both informational and error messages\n",
        "import logging\n",
        "\n",
        "logging.basicConfig(filename=\"app.log\", level=logging.INFO)\n",
        "\n",
        "logging.info(\"Program started\")\n",
        "try:\n",
        "    x = 10 / 0\n",
        "except ZeroDivisionError:\n",
        "    logging.error(\"Division by zero error\")\n"
      ],
      "metadata": {
        "colab": {
          "base_uri": "https://localhost:8080/"
        },
        "id": "i5yU9JQ_xmwr",
        "outputId": "3bfdeb92-d753-4e19-bb4b-98067ce30fc6"
      },
      "execution_count": 20,
      "outputs": [
        {
          "output_type": "stream",
          "name": "stderr",
          "text": [
            "ERROR:root:Division by zero error\n"
          ]
        }
      ]
    },
    {
      "cell_type": "code",
      "source": [
        "#15.Write a Python program that prints the content of a file and handles the case when the file is empty\n",
        "try:\n",
        "    with open(\"data.txt\", \"r\") as file:\n",
        "        content = file.read()\n",
        "        if content:\n",
        "            print(content)\n",
        "        else:\n",
        "            print(\"File is empty\")\n",
        "except FileNotFoundError:\n",
        "    print(\"File not found\")\n",
        "\n"
      ],
      "metadata": {
        "colab": {
          "base_uri": "https://localhost:8080/"
        },
        "id": "ukeoYjqrxxZI",
        "outputId": "5b287eff-186f-48db-c0e1-bddbb7b92188"
      },
      "execution_count": 21,
      "outputs": [
        {
          "output_type": "stream",
          "name": "stdout",
          "text": [
            "New line of text\n",
            "\n"
          ]
        }
      ]
    },
    {
      "cell_type": "code",
      "source": [
        "# 16.Demonstrate how to use memory profiling to check the memory usage of a small program\n",
        "from memory_profiler import profile\n",
        "\n",
        "@profile\n",
        "def create_list():\n",
        "    a = [i for i in range(100000)]\n",
        "    return a\n",
        "\n",
        "create_list()\n",
        "\n"
      ],
      "metadata": {
        "colab": {
          "base_uri": "https://localhost:8080/",
          "height": 106
        },
        "id": "5Z9km5TMx0ov",
        "outputId": "736f3410-c42d-46db-fbc7-7cf6c548668d"
      },
      "execution_count": 23,
      "outputs": [
        {
          "output_type": "error",
          "ename": "SyntaxError",
          "evalue": "invalid syntax (ipython-input-23-3022081874.py, line 2)",
          "traceback": [
            "\u001b[0;36m  File \u001b[0;32m\"/tmp/ipython-input-23-3022081874.py\"\u001b[0;36m, line \u001b[0;32m2\u001b[0m\n\u001b[0;31m    pip install memory-profiler\u001b[0m\n\u001b[0m        ^\u001b[0m\n\u001b[0;31mSyntaxError\u001b[0m\u001b[0;31m:\u001b[0m invalid syntax\n"
          ]
        }
      ]
    },
    {
      "cell_type": "code",
      "source": [
        "#17.Write a Python program to create and write a list of numbers to a file, one number per line\n",
        "\n",
        "numbers = [1, 2, 3, 4, 5]\n",
        "\n",
        "with open(\"numbers.txt\", \"w\") as file:\n",
        "    for num in numbers:\n",
        "        file.write(str(num) + \"\\n\")\n"
      ],
      "metadata": {
        "id": "ugN3sIttx0lR"
      },
      "execution_count": 24,
      "outputs": []
    },
    {
      "cell_type": "code",
      "source": [
        "#18.How would you implement a basic logging setup that logs to a file with rotation after 1MB\n",
        "import logging\n",
        "from logging.handlers import RotatingFileHandler\n",
        "\n",
        "logger = logging.getLogger()\n",
        "logger.setLevel(logging.INFO)\n",
        "\n",
        "handler = RotatingFileHandler(\"app.log\", maxBytes=1_000_000, backupCount=3)\n",
        "logger.addHandler(handler)\n",
        "\n",
        "logger.info(\"This is a test log message\")\n"
      ],
      "metadata": {
        "colab": {
          "base_uri": "https://localhost:8080/"
        },
        "id": "H2_xwIFIx0h4",
        "outputId": "4d61c2c8-e625-457e-9d8e-6c27768c0e6c"
      },
      "execution_count": 25,
      "outputs": [
        {
          "output_type": "stream",
          "name": "stderr",
          "text": [
            "INFO:root:This is a test log message\n"
          ]
        }
      ]
    },
    {
      "cell_type": "code",
      "source": [
        "# 19.Write a program that handles both IndexError and KeyError using a try-except block\n",
        "data = {\"name\": \"Alice\"}\n",
        "items = [1, 2, 3]\n",
        "\n",
        "try:\n",
        "    print(items[5])\n",
        "    print(data[\"age\"])\n",
        "except IndexError:\n",
        "    print(\"Index out of range\")\n",
        "except KeyError:\n",
        "    print(\"Key not found\")\n"
      ],
      "metadata": {
        "colab": {
          "base_uri": "https://localhost:8080/"
        },
        "id": "B2KQvKLhx0ep",
        "outputId": "125abc00-4e64-45a9-9df6-37546f45b726"
      },
      "execution_count": 26,
      "outputs": [
        {
          "output_type": "stream",
          "name": "stdout",
          "text": [
            "Index out of range\n"
          ]
        }
      ]
    },
    {
      "cell_type": "code",
      "source": [
        "#20.How would you open a file and read its contents using a context manager in Python\n",
        "with open(\"data.txt\", \"r\") as file:\n",
        "    content = file.read()\n",
        "    print(content)\n"
      ],
      "metadata": {
        "colab": {
          "base_uri": "https://localhost:8080/"
        },
        "id": "EHGExWnMx0b3",
        "outputId": "1e23c7d1-502c-49bc-95ba-11f8a88099f3"
      },
      "execution_count": 27,
      "outputs": [
        {
          "output_type": "stream",
          "name": "stdout",
          "text": [
            "New line of text\n",
            "\n"
          ]
        }
      ]
    },
    {
      "cell_type": "code",
      "source": [
        "#21.Write a Python program that reads a file and prints the number of occurrences of a specific word\n",
        "word_to_count = \"python\"\n",
        "\n",
        "with open(\"data.txt\", \"r\") as file:\n",
        "    content = file.read()\n",
        "    count = content.lower().count(word_to_count.lower())\n",
        "    print(count)\n",
        "\n"
      ],
      "metadata": {
        "colab": {
          "base_uri": "https://localhost:8080/"
        },
        "id": "iBWpVZwkx0ZC",
        "outputId": "3bd6120a-2a02-4cab-9d55-85b044859c6a"
      },
      "execution_count": 28,
      "outputs": [
        {
          "output_type": "stream",
          "name": "stdout",
          "text": [
            "0\n"
          ]
        }
      ]
    },
    {
      "cell_type": "code",
      "source": [
        "#22.How can you check if a file is empty before attempting to read its contents\n",
        "import os\n",
        "\n",
        "if os.path.getsize(\"data.txt\") == 0:\n",
        "    print(\"File is empty\")\n",
        "else:\n",
        "    with open(\"data.txt\", \"r\") as file:\n",
        "        print(file.read())\n"
      ],
      "metadata": {
        "colab": {
          "base_uri": "https://localhost:8080/"
        },
        "id": "550xnFB8x0WO",
        "outputId": "8db09b60-cd68-40af-c5b8-4264f4134f97"
      },
      "execution_count": 29,
      "outputs": [
        {
          "output_type": "stream",
          "name": "stdout",
          "text": [
            "New line of text\n",
            "\n"
          ]
        }
      ]
    },
    {
      "cell_type": "code",
      "source": [
        "#23.Write a Python program that writes to a log file when an error occurs during file handling.\n",
        "import logging\n",
        "\n",
        "logging.basicConfig(filename=\"file_error.log\", level=logging.ERROR)\n",
        "\n",
        "try:\n",
        "    with open(\"data.txt\", \"r\") as file:\n",
        "        print(file.read())\n",
        "except Exception as e:\n",
        "    logging.error(f\"Error occurred: {e}\")\n"
      ],
      "metadata": {
        "colab": {
          "base_uri": "https://localhost:8080/"
        },
        "id": "mqRL_WV1x0TC",
        "outputId": "570f6081-1859-4a52-8e30-441b74a2a1ae"
      },
      "execution_count": 30,
      "outputs": [
        {
          "output_type": "stream",
          "name": "stdout",
          "text": [
            "New line of text\n",
            "\n"
          ]
        }
      ]
    },
    {
      "cell_type": "code",
      "source": [],
      "metadata": {
        "id": "fXdHuKuyx0QA"
      },
      "execution_count": null,
      "outputs": []
    },
    {
      "cell_type": "code",
      "source": [],
      "metadata": {
        "id": "11V0aBm_x0NQ"
      },
      "execution_count": null,
      "outputs": []
    },
    {
      "cell_type": "code",
      "source": [],
      "metadata": {
        "id": "iSc6aIatx0F0"
      },
      "execution_count": null,
      "outputs": []
    },
    {
      "cell_type": "code",
      "source": [],
      "metadata": {
        "id": "U1IPnYz9xz3C"
      },
      "execution_count": null,
      "outputs": []
    },
    {
      "cell_type": "code",
      "source": [],
      "metadata": {
        "id": "jzODKbmaxyPL"
      },
      "execution_count": 20,
      "outputs": []
    }
  ]
}